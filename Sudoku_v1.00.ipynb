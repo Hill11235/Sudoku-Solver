{
 "cells": [
  {
   "cell_type": "markdown",
   "metadata": {},
   "source": [
    "   # Sudoku solver script v1.00"
   ]
  },
  {
   "cell_type": "markdown",
   "metadata": {},
   "source": [
    "Script to solve a given sudoku or calculate that it has no solution "
   ]
  },
  {
   "cell_type": "code",
   "execution_count": 1,
   "metadata": {},
   "outputs": [],
   "source": [
    "import numpy as np\n",
    "from math import floor"
   ]
  },
  {
   "cell_type": "markdown",
   "metadata": {},
   "source": [
    "Define a sudoku to be solved in an np array:"
   ]
  },
  {
   "cell_type": "code",
   "execution_count": 2,
   "metadata": {},
   "outputs": [],
   "source": [
    "sd = np.array([ [8,0,0,0,0,0,0,0,0],\n",
    "                [0,0,3,6,0,0,0,0,0],\n",
    "                [0,7,0,0,9,0,2,0,0],\n",
    "                [0,5,0,0,0,7,0,0,0],\n",
    "                [0,0,0,0,4,5,7,0,0],\n",
    "                [0,0,0,1,0,0,0,3,0],\n",
    "                [0,0,1,0,0,0,0,6,8],\n",
    "                [0,0,8,5,0,0,0,1,0],\n",
    "                [0,9,0,0,0,0,4,0,0]]) "
   ]
  },
  {
   "cell_type": "markdown",
   "metadata": {},
   "source": [
    "Below split() function segments input board based on the nine 3x3 squares:"
   ]
  },
  {
   "cell_type": "code",
   "execution_count": 3,
   "metadata": {},
   "outputs": [],
   "source": [
    "#takes each 3x3 section from the board and adds all entries into a list corresponding to each 3x3 grid\n",
    "#need to check box function once complete, will list of subarrays change and be dependent on original board?\n",
    "\n",
    "#board splitting function\n",
    "\n",
    "def split(board):\n",
    "    z = 0\n",
    "    subBoards = []\n",
    "\n",
    "    for i in range(9):\n",
    "\n",
    "        if i%3 == 0:\n",
    "            z = 0\n",
    "        else:\n",
    "            z += 3\n",
    "\n",
    "        sdTemp = sd[ (3*floor(i/3)):(3*floor(i/3) +3), z:(z+3) ]\n",
    "        sdTemp = sdTemp.reshape(9, )\n",
    "\n",
    "        if i == 0:\n",
    "            subBoards = sdTemp\n",
    "        else:\n",
    "            subBoards = np.vstack((subBoards,sdTemp))\n",
    "    \n",
    "    return subBoards"
   ]
  },
  {
   "cell_type": "markdown",
   "metadata": {},
   "source": [
    "Define box() function to check if a given number in a given already exists in the related 3x3 subgrid "
   ]
  },
  {
   "cell_type": "code",
   "execution_count": 4,
   "metadata": {},
   "outputs": [],
   "source": [
    "#need to define subgrid variable at start of each iteration of the box function so that it captures changes\n",
    "#check that reshape function will not affect dependency on original board\n",
    "\n",
    "def box(board, i, j, p):\n",
    "    subBoards = split(board)\n",
    "    subGrid = (3*floor(i/3) + floor(j/3))\n",
    "    \n",
    "    if p in subBoards[subGrid]:\n",
    "        return False\n",
    "    else:\n",
    "        return True"
   ]
  },
  {
   "cell_type": "markdown",
   "metadata": {},
   "source": [
    "Constraint check defined below. It's checking three things:\n",
    "#1 For the presence of a given number in the row\n",
    "#2 For the presence of a given number in the column\n",
    "#3 For the presence of a given number in the 3x3 grid of the cell"
   ]
  },
  {
   "cell_type": "code",
   "execution_count": 5,
   "metadata": {},
   "outputs": [],
   "source": [
    "# checking number p in cell [i, j] in board\n",
    "\n",
    "def constraint(board, i, j, p):\n",
    "    if (p not in board[i, 0:]) and (p not in board[0:, j]) and box(board, i, j, p) == True:\n",
    "        return True\n",
    "    else:\n",
    "        return False"
   ]
  },
  {
   "cell_type": "markdown",
   "metadata": {},
   "source": [
    "zspace() function defined below takes input board and stores coordinates of all zeroes of the original board in a list"
   ]
  },
  {
   "cell_type": "code",
   "execution_count": 6,
   "metadata": {},
   "outputs": [],
   "source": [
    "#takes input board and generates array containing coordinates of zeros\n",
    "\n",
    "def zspace(board):\n",
    "    coord = []\n",
    "    \n",
    "    for i in range(9):\n",
    "        for j in range(9):\n",
    "            if board[i][j] == 0:\n",
    "                coord.append([i, j])\n",
    "    return coord\n",
    "    "
   ]
  },
  {
   "cell_type": "markdown",
   "metadata": {},
   "source": [
    "Backtracking solve function defined below:"
   ]
  },
  {
   "cell_type": "code",
   "execution_count": 7,
   "metadata": {},
   "outputs": [],
   "source": [
    "#takes input board and generic counting variable as input \n",
    "\n",
    "def btrck(board):\n",
    "    zsp = zspace(board)\n",
    "    \n",
    "    if len(zsp) == 0:\n",
    "        return True\n",
    "    \n",
    "    for n in range(1, 10):\n",
    "            \n",
    "        if constraint(board, zsp[0][0], zsp[0][1], n):\n",
    "            board[ (zsp[0][0], zsp[0][1]) ] = n\n",
    "            \n",
    "            if btrck(board):\n",
    "                return True\n",
    "            \n",
    "            board[ (zsp[0][0], zsp[0][1]) ] = 0\n",
    "    \n",
    "    return False"
   ]
  },
  {
   "cell_type": "markdown",
   "metadata": {},
   "source": [
    "Running full function below and outputting solution board"
   ]
  },
  {
   "cell_type": "code",
   "execution_count": 8,
   "metadata": {},
   "outputs": [],
   "source": [
    "def solution(board):\n",
    "    \n",
    "    if btrck(board) == True:\n",
    "        return print(board)\n",
    "    else:\n",
    "        return print(\"No solution\")"
   ]
  },
  {
   "cell_type": "markdown",
   "metadata": {},
   "source": [
    "Solution below:"
   ]
  },
  {
   "cell_type": "code",
   "execution_count": 9,
   "metadata": {},
   "outputs": [
    {
     "name": "stdout",
     "output_type": "stream",
     "text": [
      "[[8 1 2 7 5 3 6 4 9]\n",
      " [9 4 3 6 8 2 1 7 5]\n",
      " [6 7 5 4 9 1 2 8 3]\n",
      " [1 5 4 2 3 7 8 9 6]\n",
      " [3 6 9 8 4 5 7 2 1]\n",
      " [2 8 7 1 6 9 5 3 4]\n",
      " [5 2 1 9 7 4 3 6 8]\n",
      " [4 3 8 5 2 6 9 1 7]\n",
      " [7 9 6 3 1 8 4 5 2]]\n"
     ]
    }
   ],
   "source": [
    "solution(sd)"
   ]
  }
 ],
 "metadata": {
  "kernelspec": {
   "display_name": "Python 3",
   "language": "python",
   "name": "python3"
  },
  "language_info": {
   "codemirror_mode": {
    "name": "ipython",
    "version": 3
   },
   "file_extension": ".py",
   "mimetype": "text/x-python",
   "name": "python",
   "nbconvert_exporter": "python",
   "pygments_lexer": "ipython3",
   "version": "3.7.6"
  }
 },
 "nbformat": 4,
 "nbformat_minor": 4
}
